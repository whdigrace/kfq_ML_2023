{
  "nbformat": 4,
  "nbformat_minor": 0,
  "metadata": {
    "colab": {
      "provenance": [],
      "include_colab_link": true
    },
    "kernelspec": {
      "name": "python3",
      "display_name": "Python 3"
    },
    "language_info": {
      "name": "python"
    }
  },
  "cells": [
    {
      "cell_type": "markdown",
      "metadata": {
        "id": "view-in-github",
        "colab_type": "text"
      },
      "source": [
        "<a href=\"https://colab.research.google.com/github/whdigrace/kfq_ML_2023/blob/main/kfq2023_%EB%A8%B8%EC%8B%A0%EB%9F%AC%EB%8B%9D_%ED%8F%89%EA%B0%80_%EB%8F%84%EA%B5%AC.ipynb\" target=\"_parent\"><img src=\"https://colab.research.google.com/assets/colab-badge.svg\" alt=\"Open In Colab\"/></a>"
      ]
    },
    {
      "cell_type": "code",
      "execution_count": 1,
      "metadata": {
        "id": "ag9UpbNZaE3I"
      },
      "outputs": [],
      "source": [
        "from sklearn.base import BaseEstimator\n",
        "import numpy as np"
      ]
    },
    {
      "cell_type": "code",
      "source": [
        "class MYDummyClassifier(BaseEstimator):\n",
        "  def fit(self,x,y=None):\n",
        "    pass\n",
        "  def predict(self,x):\n",
        "    pred = np.zeros((x.shape[0],1))\n",
        "    for i in range(x.shape[0]):\n",
        "      if x['Sex'].iloc[i] == 0:\n",
        "        pred[i]=0\n",
        "      else:\n",
        "        pred[i]=1\n",
        "    return pred"
      ],
      "metadata": {
        "id": "pryfj1etcC0n"
      },
      "execution_count": 2,
      "outputs": []
    },
    {
      "cell_type": "code",
      "source": [
        "from google.colab import drive\n",
        "drive.mount('/content/drive')"
      ],
      "metadata": {
        "colab": {
          "base_uri": "https://localhost:8080/"
        },
        "id": "lDHBOwC3lbYO",
        "outputId": "7f29ba6f-bf27-43b4-c5d5-ffafc740d77c"
      },
      "execution_count": 3,
      "outputs": [
        {
          "output_type": "stream",
          "name": "stdout",
          "text": [
            "Mounted at /content/drive\n"
          ]
        }
      ]
    },
    {
      "cell_type": "code",
      "source": [
        "import pandas as pd"
      ],
      "metadata": {
        "id": "e1PwgDMUe06E"
      },
      "execution_count": 4,
      "outputs": []
    },
    {
      "cell_type": "code",
      "source": [
        "path = '/content/drive/MyDrive/titanic_train.csv'\n",
        "df = pd.read_csv(path)"
      ],
      "metadata": {
        "id": "PLiYcDDZckxu"
      },
      "execution_count": 5,
      "outputs": []
    },
    {
      "cell_type": "code",
      "source": [
        "label = df['Survived']\n",
        "data = df[['Pclass','Sex','SibSp','Parch','Fare']]"
      ],
      "metadata": {
        "id": "s-U5msnNe5fR"
      },
      "execution_count": 6,
      "outputs": []
    },
    {
      "cell_type": "code",
      "source": [
        "data['Sex'] = pd.get_dummies(data['Sex'])['female'].values"
      ],
      "metadata": {
        "id": "n4KuqdGUfFAN",
        "colab": {
          "base_uri": "https://localhost:8080/"
        },
        "outputId": "2aa8fc89-1a8e-4a2c-ad8f-a206d0e881a9"
      },
      "execution_count": 7,
      "outputs": [
        {
          "output_type": "stream",
          "name": "stderr",
          "text": [
            "<ipython-input-7-bb01d747e6f8>:1: SettingWithCopyWarning: \n",
            "A value is trying to be set on a copy of a slice from a DataFrame.\n",
            "Try using .loc[row_indexer,col_indexer] = value instead\n",
            "\n",
            "See the caveats in the documentation: https://pandas.pydata.org/pandas-docs/stable/user_guide/indexing.html#returning-a-view-versus-a-copy\n",
            "  data['Sex'] = pd.get_dummies(data['Sex'])['female'].values\n"
          ]
        }
      ]
    },
    {
      "cell_type": "code",
      "source": [
        "from sklearn.model_selection import train_test_split"
      ],
      "metadata": {
        "id": "RvxBO4etfSe7"
      },
      "execution_count": 8,
      "outputs": []
    },
    {
      "cell_type": "code",
      "source": [
        "x_train, x_test, y_train, y_test = train_test_split(data,label)"
      ],
      "metadata": {
        "id": "jE_nW2BigfnG"
      },
      "execution_count": 9,
      "outputs": []
    },
    {
      "cell_type": "code",
      "source": [
        "model = MYDummyClassifier()\n",
        "model.fit(x_train,y_train)"
      ],
      "metadata": {
        "id": "ZGkmJQiRhMUm"
      },
      "execution_count": 10,
      "outputs": []
    },
    {
      "cell_type": "code",
      "source": [
        "pred = model.predict(x_test)"
      ],
      "metadata": {
        "id": "uv6PQW0UhXWI"
      },
      "execution_count": 11,
      "outputs": []
    },
    {
      "cell_type": "code",
      "source": [
        "from sklearn.metrics import accuracy_score"
      ],
      "metadata": {
        "id": "NKH1zSfOhcjv"
      },
      "execution_count": 12,
      "outputs": []
    },
    {
      "cell_type": "code",
      "source": [
        "accuracy_score(y_test,pred)"
      ],
      "metadata": {
        "colab": {
          "base_uri": "https://localhost:8080/"
        },
        "id": "722W6D1lhglK",
        "outputId": "d5e52a51-ad03-48ab-a603-1e58f0a86abe"
      },
      "execution_count": 13,
      "outputs": [
        {
          "output_type": "execute_result",
          "data": {
            "text/plain": [
              "0.7847533632286996"
            ]
          },
          "metadata": {},
          "execution_count": 13
        }
      ]
    },
    {
      "cell_type": "code",
      "source": [
        "from sklearn.datasets import load_digits"
      ],
      "metadata": {
        "id": "aYHFZLcNhi-a"
      },
      "execution_count": 14,
      "outputs": []
    },
    {
      "cell_type": "code",
      "source": [
        "digits = load_digits()"
      ],
      "metadata": {
        "id": "JctOykRki7wF"
      },
      "execution_count": 15,
      "outputs": []
    },
    {
      "cell_type": "code",
      "source": [
        "np.unique(digits.target,return_counts=True)"
      ],
      "metadata": {
        "colab": {
          "base_uri": "https://localhost:8080/"
        },
        "id": "l-gLzRa2jF1g",
        "outputId": "865dd8f4-9ed4-489b-d5b8-10b3a580aca6"
      },
      "execution_count": 16,
      "outputs": [
        {
          "output_type": "execute_result",
          "data": {
            "text/plain": [
              "(array([0, 1, 2, 3, 4, 5, 6, 7, 8, 9]),\n",
              " array([178, 182, 177, 183, 181, 182, 181, 179, 174, 180]))"
            ]
          },
          "metadata": {},
          "execution_count": 16
        }
      ]
    },
    {
      "cell_type": "code",
      "source": [
        "data = digits.data\n",
        "label = (digits.target==7).astype(int)"
      ],
      "metadata": {
        "id": "vWLMnmKjjZMe"
      },
      "execution_count": 17,
      "outputs": []
    },
    {
      "cell_type": "code",
      "source": [
        "np.unique(label,return_counts=True)"
      ],
      "metadata": {
        "colab": {
          "base_uri": "https://localhost:8080/"
        },
        "id": "9ykRrTjDjyOI",
        "outputId": "6fec1076-dc93-426f-dada-bb4b0fa8cd89"
      },
      "execution_count": 18,
      "outputs": [
        {
          "output_type": "execute_result",
          "data": {
            "text/plain": [
              "(array([0, 1]), array([1618,  179]))"
            ]
          },
          "metadata": {},
          "execution_count": 18
        }
      ]
    },
    {
      "cell_type": "code",
      "source": [
        "class MySecondClassifier(BaseEstimator):\n",
        "  def fit(self,x,y=None):\n",
        "    pass\n",
        "  def predict(self,x):\n",
        "    return np.zeros((len(x),1),dtype=bool)"
      ],
      "metadata": {
        "id": "z-JvdyZ7kAhC"
      },
      "execution_count": 19,
      "outputs": []
    },
    {
      "cell_type": "code",
      "source": [
        "x_train, x_test, y_train, y_test = train_test_split(data,label)"
      ],
      "metadata": {
        "id": "ZkBf1K66kmWC"
      },
      "execution_count": 20,
      "outputs": []
    },
    {
      "cell_type": "code",
      "source": [
        "model = MySecondClassifier()\n",
        "model.fit(x_train,y_train)\n",
        "pred = model.predict(x_test)\n",
        "accuracy_score(y_test,pred)"
      ],
      "metadata": {
        "colab": {
          "base_uri": "https://localhost:8080/"
        },
        "id": "pVC4OtchkroB",
        "outputId": "4a3e4a9b-efb8-41ca-d962-61e15dd08948"
      },
      "execution_count": 21,
      "outputs": [
        {
          "output_type": "execute_result",
          "data": {
            "text/plain": [
              "0.9155555555555556"
            ]
          },
          "metadata": {},
          "execution_count": 21
        }
      ]
    },
    {
      "cell_type": "code",
      "source": [
        "d = data[0].reshape(8,-1)\n",
        "d"
      ],
      "metadata": {
        "colab": {
          "base_uri": "https://localhost:8080/"
        },
        "id": "ThhLd2JPk2rk",
        "outputId": "63ae6b40-1806-439f-93e0-f310f6c13a6a"
      },
      "execution_count": 22,
      "outputs": [
        {
          "output_type": "execute_result",
          "data": {
            "text/plain": [
              "array([[ 0.,  0.,  5., 13.,  9.,  1.,  0.,  0.],\n",
              "       [ 0.,  0., 13., 15., 10., 15.,  5.,  0.],\n",
              "       [ 0.,  3., 15.,  2.,  0., 11.,  8.,  0.],\n",
              "       [ 0.,  4., 12.,  0.,  0.,  8.,  8.,  0.],\n",
              "       [ 0.,  5.,  8.,  0.,  0.,  9.,  8.,  0.],\n",
              "       [ 0.,  4., 11.,  0.,  1., 12.,  7.,  0.],\n",
              "       [ 0.,  2., 14.,  5., 10., 12.,  0.,  0.],\n",
              "       [ 0.,  0.,  6., 13., 10.,  0.,  0.,  0.]])"
            ]
          },
          "metadata": {},
          "execution_count": 22
        }
      ]
    },
    {
      "cell_type": "code",
      "source": [
        "for y in range(8):\n",
        "  for x in range(8):\n",
        "    if d[y][x] !=0:\n",
        "      print(\"■\",end=\"\")\n",
        "    else:\n",
        "      print(\"  \",end=\"\")\n",
        "  print()"
      ],
      "metadata": {
        "colab": {
          "base_uri": "https://localhost:8080/"
        },
        "id": "bRG-D5TVljd3",
        "outputId": "91e90137-4de3-4780-9c3d-44d83ac70141"
      },
      "execution_count": 23,
      "outputs": [
        {
          "output_type": "stream",
          "name": "stdout",
          "text": [
            "    ■■■■    \n",
            "    ■■■■■  \n",
            "  ■■■  ■■  \n",
            "  ■■    ■■  \n",
            "  ■■    ■■  \n",
            "  ■■  ■■■  \n",
            "  ■■■■■    \n",
            "    ■■■      \n"
          ]
        }
      ]
    },
    {
      "cell_type": "code",
      "source": [
        "from sklearn.linear_model import LogisticRegression"
      ],
      "metadata": {
        "id": "RxQB4TVml_Tf"
      },
      "execution_count": 24,
      "outputs": []
    },
    {
      "cell_type": "code",
      "source": [
        "model = LogisticRegression()\n",
        "model.fit(x_train,y_train)\n",
        "pred = model.predict(x_test)\n",
        "accuracy_score(y_test,pred)"
      ],
      "metadata": {
        "colab": {
          "base_uri": "https://localhost:8080/"
        },
        "id": "b5YT1Y7dp8oM",
        "outputId": "9ebe74c3-feaf-44e2-ca84-c5f3866188fc"
      },
      "execution_count": 25,
      "outputs": [
        {
          "output_type": "stream",
          "name": "stderr",
          "text": [
            "/usr/local/lib/python3.10/dist-packages/sklearn/linear_model/_logistic.py:458: ConvergenceWarning: lbfgs failed to converge (status=1):\n",
            "STOP: TOTAL NO. of ITERATIONS REACHED LIMIT.\n",
            "\n",
            "Increase the number of iterations (max_iter) or scale the data as shown in:\n",
            "    https://scikit-learn.org/stable/modules/preprocessing.html\n",
            "Please also refer to the documentation for alternative solver options:\n",
            "    https://scikit-learn.org/stable/modules/linear_model.html#logistic-regression\n",
            "  n_iter_i = _check_optimize_result(\n"
          ]
        },
        {
          "output_type": "execute_result",
          "data": {
            "text/plain": [
              "1.0"
            ]
          },
          "metadata": {},
          "execution_count": 25
        }
      ]
    },
    {
      "cell_type": "markdown",
      "source": [
        "## 오차 행렬"
      ],
      "metadata": {
        "id": "27Ts0ABmsF6T"
      }
    },
    {
      "cell_type": "code",
      "source": [
        "from sklearn.metrics import confusion_matrix"
      ],
      "metadata": {
        "id": "c27fxB8-qAOb"
      },
      "execution_count": 26,
      "outputs": []
    },
    {
      "cell_type": "code",
      "source": [
        "model = LogisticRegression()\n",
        "model.fit(x_train,y_train)\n",
        "pred = model.predict(x_test)\n",
        "confusion_matrix(y_test,pred) #로지스틱 회귀 모델로 실행한 결과"
      ],
      "metadata": {
        "colab": {
          "base_uri": "https://localhost:8080/"
        },
        "id": "qdGbA7EQsHzD",
        "outputId": "b922d0e3-6a5e-4a5c-a72a-0a7fd7c79541"
      },
      "execution_count": 27,
      "outputs": [
        {
          "output_type": "stream",
          "name": "stderr",
          "text": [
            "/usr/local/lib/python3.10/dist-packages/sklearn/linear_model/_logistic.py:458: ConvergenceWarning: lbfgs failed to converge (status=1):\n",
            "STOP: TOTAL NO. of ITERATIONS REACHED LIMIT.\n",
            "\n",
            "Increase the number of iterations (max_iter) or scale the data as shown in:\n",
            "    https://scikit-learn.org/stable/modules/preprocessing.html\n",
            "Please also refer to the documentation for alternative solver options:\n",
            "    https://scikit-learn.org/stable/modules/linear_model.html#logistic-regression\n",
            "  n_iter_i = _check_optimize_result(\n"
          ]
        },
        {
          "output_type": "execute_result",
          "data": {
            "text/plain": [
              "array([[412,   0],\n",
              "       [  0,  38]])"
            ]
          },
          "metadata": {},
          "execution_count": 27
        }
      ]
    },
    {
      "cell_type": "code",
      "source": [
        "model = MySecondClassifier()\n",
        "model.fit(x_train,y_train)\n",
        "pred = model.predict(x_test)\n",
        "confusion_matrix(y_test,pred)"
      ],
      "metadata": {
        "colab": {
          "base_uri": "https://localhost:8080/"
        },
        "id": "VZnqunw6sQa2",
        "outputId": "51a21c0e-6d24-407b-a833-28bea4ccbe2b"
      },
      "execution_count": 28,
      "outputs": [
        {
          "output_type": "execute_result",
          "data": {
            "text/plain": [
              "array([[412,   0],\n",
              "       [ 38,   0]])"
            ]
          },
          "metadata": {},
          "execution_count": 28
        }
      ]
    },
    {
      "cell_type": "code",
      "source": [
        "from sklearn.metrics import accuracy_score\n",
        "from sklearn.metrics import precision_score\n",
        "from sklearn.metrics import recall_score"
      ],
      "metadata": {
        "id": "s_7tYgVFsXr0"
      },
      "execution_count": 29,
      "outputs": []
    },
    {
      "cell_type": "code",
      "source": [
        "def model_evaluate(actual , pred, print_flag=True):\n",
        "  confusion = confusion_matrix(actual , pred)\n",
        "  accuracy = accuracy_score(actual , pred)\n",
        "  precision = precision_score(actual , pred)\n",
        "  recall = recall_score(actual , pred)\n",
        "  if print_flag:\n",
        "    print(f\"accuracy:{accuracy:.3f} \")\n",
        "    print(f\"precision:{precision:.3f} \")\n",
        "    print(f\"recall:{recall:.3f} \")\n",
        "  return  confusion,accuracy,precision, recall"
      ],
      "metadata": {
        "id": "1pShS1DEwChx"
      },
      "execution_count": 30,
      "outputs": []
    },
    {
      "cell_type": "code",
      "source": [
        "model = MySecondClassifier()\n",
        "model.fit(x_train,y_train)\n",
        "pred = model.predict(x_test)"
      ],
      "metadata": {
        "id": "IExewfNGwOY2"
      },
      "execution_count": 31,
      "outputs": []
    },
    {
      "cell_type": "code",
      "source": [
        "model_evaluate(y_test,pred)"
      ],
      "metadata": {
        "colab": {
          "base_uri": "https://localhost:8080/"
        },
        "id": "s86wxCRext36",
        "outputId": "502e81ec-a825-403e-b768-1330582c4d91"
      },
      "execution_count": 32,
      "outputs": [
        {
          "output_type": "stream",
          "name": "stdout",
          "text": [
            "accuracy:0.916 \n",
            "precision:0.000 \n",
            "recall:0.000 \n"
          ]
        },
        {
          "output_type": "stream",
          "name": "stderr",
          "text": [
            "/usr/local/lib/python3.10/dist-packages/sklearn/metrics/_classification.py:1344: UndefinedMetricWarning: Precision is ill-defined and being set to 0.0 due to no predicted samples. Use `zero_division` parameter to control this behavior.\n",
            "  _warn_prf(average, modifier, msg_start, len(result))\n"
          ]
        },
        {
          "output_type": "execute_result",
          "data": {
            "text/plain": [
              "(array([[412,   0],\n",
              "        [ 38,   0]]),\n",
              " 0.9155555555555556,\n",
              " 0.0,\n",
              " 0.0)"
            ]
          },
          "metadata": {},
          "execution_count": 32
        }
      ]
    },
    {
      "cell_type": "code",
      "source": [
        "_,acc,_,_ = model_evaluate(y_test,pred,print_flag=False)\n",
        "acc"
      ],
      "metadata": {
        "colab": {
          "base_uri": "https://localhost:8080/"
        },
        "id": "edNtPDHDxYu1",
        "outputId": "9bb75f8b-deab-4821-f1a3-6b5d83a203c5"
      },
      "execution_count": 33,
      "outputs": [
        {
          "output_type": "stream",
          "name": "stderr",
          "text": [
            "/usr/local/lib/python3.10/dist-packages/sklearn/metrics/_classification.py:1344: UndefinedMetricWarning: Precision is ill-defined and being set to 0.0 due to no predicted samples. Use `zero_division` parameter to control this behavior.\n",
            "  _warn_prf(average, modifier, msg_start, len(result))\n"
          ]
        },
        {
          "output_type": "execute_result",
          "data": {
            "text/plain": [
              "0.9155555555555556"
            ]
          },
          "metadata": {},
          "execution_count": 33
        }
      ]
    },
    {
      "cell_type": "code",
      "source": [
        "label = df['Survived']\n",
        "data = df[['Pclass','Sex','SibSp','Parch','Fare']]\n",
        "data['Sex'] = pd.get_dummies(data['Sex'])['female'].values"
      ],
      "metadata": {
        "id": "NQv7dYa0xyDj",
        "colab": {
          "base_uri": "https://localhost:8080/"
        },
        "outputId": "5571006b-0ad4-4298-cebc-e66562b5aba2"
      },
      "execution_count": 34,
      "outputs": [
        {
          "output_type": "stream",
          "name": "stderr",
          "text": [
            "<ipython-input-34-03841b96478e>:3: SettingWithCopyWarning: \n",
            "A value is trying to be set on a copy of a slice from a DataFrame.\n",
            "Try using .loc[row_indexer,col_indexer] = value instead\n",
            "\n",
            "See the caveats in the documentation: https://pandas.pydata.org/pandas-docs/stable/user_guide/indexing.html#returning-a-view-versus-a-copy\n",
            "  data['Sex'] = pd.get_dummies(data['Sex'])['female'].values\n"
          ]
        }
      ]
    },
    {
      "cell_type": "code",
      "source": [
        "x_train, x_test, y_train, y_test = train_test_split(data,label)"
      ],
      "metadata": {
        "id": "8mwZdqvJ35YG"
      },
      "execution_count": 35,
      "outputs": []
    },
    {
      "cell_type": "code",
      "source": [
        "model = LogisticRegression()\n",
        "model.fit(x_train,y_train)\n",
        "pred = model.predict(x_test)\n",
        "re = model_evaluate(y_test,pred)"
      ],
      "metadata": {
        "colab": {
          "base_uri": "https://localhost:8080/"
        },
        "id": "eB9KLUAB3_Ap",
        "outputId": "99e0ecbe-4493-420c-ab17-2200d9677f7e"
      },
      "execution_count": 36,
      "outputs": [
        {
          "output_type": "stream",
          "name": "stdout",
          "text": [
            "accuracy:0.812 \n",
            "precision:0.807 \n",
            "recall:0.720 \n"
          ]
        }
      ]
    },
    {
      "cell_type": "code",
      "source": [
        "model = MYDummyClassifier()\n",
        "model.fit(x_train,y_train)\n",
        "pred = model.predict(x_test)\n",
        "re = model_evaluate(y_test,pred)"
      ],
      "metadata": {
        "colab": {
          "base_uri": "https://localhost:8080/"
        },
        "id": "BsjGbfc64Wmu",
        "outputId": "739a7ca0-1cf7-443f-fbb0-07bf5c99aa98"
      },
      "execution_count": 37,
      "outputs": [
        {
          "output_type": "stream",
          "name": "stdout",
          "text": [
            "accuracy:0.812 \n",
            "precision:0.787 \n",
            "recall:0.753 \n"
          ]
        }
      ]
    },
    {
      "cell_type": "code",
      "source": [
        "model = LogisticRegression()\n",
        "model.fit(x_train,y_train)\n",
        "pred_proba = model.predict_proba(x_test)\n",
        "pred_proba.shape"
      ],
      "metadata": {
        "colab": {
          "base_uri": "https://localhost:8080/"
        },
        "id": "XQuCl0hU438h",
        "outputId": "d086ba30-fdca-47be-e535-7cf1ab5f03c8"
      },
      "execution_count": 39,
      "outputs": [
        {
          "output_type": "execute_result",
          "data": {
            "text/plain": [
              "(223, 2)"
            ]
          },
          "metadata": {},
          "execution_count": 39
        }
      ]
    },
    {
      "cell_type": "code",
      "source": [
        "pred_proba[0], pred[0]"
      ],
      "metadata": {
        "colab": {
          "base_uri": "https://localhost:8080/"
        },
        "id": "gB39B7cE5VbC",
        "outputId": "7efd249c-ef65-4348-ee87-51c3a54fca97"
      },
      "execution_count": 40,
      "outputs": [
        {
          "output_type": "execute_result",
          "data": {
            "text/plain": [
              "(array([0.0311614, 0.9688386]), array([1.]))"
            ]
          },
          "metadata": {},
          "execution_count": 40
        }
      ]
    },
    {
      "cell_type": "code",
      "source": [
        "from sklearn.preprocessing import Binarizer"
      ],
      "metadata": {
        "id": "scD8JsfO57Vn"
      },
      "execution_count": 41,
      "outputs": []
    },
    {
      "cell_type": "code",
      "source": [
        "x = [[1,2,1],\n",
        "     [4,0,2],\n",
        "     [1,2,3]]\n",
        "binar = Binarizer(threshold=2)\n",
        "bx = binar.fit_transform(x)\n",
        "bx"
      ],
      "metadata": {
        "colab": {
          "base_uri": "https://localhost:8080/"
        },
        "id": "72d2rtHY6N5k",
        "outputId": "45f2e613-05c3-48dd-bca9-62b6474edd3a"
      },
      "execution_count": 42,
      "outputs": [
        {
          "output_type": "execute_result",
          "data": {
            "text/plain": [
              "array([[0, 0, 0],\n",
              "       [1, 0, 0],\n",
              "       [0, 0, 1]])"
            ]
          },
          "metadata": {},
          "execution_count": 42
        }
      ]
    },
    {
      "cell_type": "code",
      "source": [
        "binar = Binarizer(threshold=0.3)\n",
        "ppx = binar.fit_transform(pred_proba)\n",
        "ppx"
      ],
      "metadata": {
        "id": "WStyr14D6ihI",
        "colab": {
          "base_uri": "https://localhost:8080/"
        },
        "outputId": "7e5b091d-ea61-4cfc-8870-6dc9d08177d6"
      },
      "execution_count": 43,
      "outputs": [
        {
          "output_type": "execute_result",
          "data": {
            "text/plain": [
              "array([[0., 1.],\n",
              "       [1., 0.],\n",
              "       [1., 1.],\n",
              "       [0., 1.],\n",
              "       [1., 0.],\n",
              "       [1., 0.],\n",
              "       [0., 1.],\n",
              "       [1., 0.],\n",
              "       [1., 0.],\n",
              "       [1., 0.],\n",
              "       [1., 0.],\n",
              "       [1., 0.],\n",
              "       [0., 1.],\n",
              "       [1., 1.],\n",
              "       [1., 0.],\n",
              "       [1., 0.],\n",
              "       [1., 1.],\n",
              "       [1., 0.],\n",
              "       [1., 1.],\n",
              "       [1., 1.],\n",
              "       [0., 1.],\n",
              "       [1., 0.],\n",
              "       [1., 0.],\n",
              "       [1., 0.],\n",
              "       [1., 0.],\n",
              "       [0., 1.],\n",
              "       [0., 1.],\n",
              "       [1., 1.],\n",
              "       [1., 1.],\n",
              "       [1., 1.],\n",
              "       [1., 0.],\n",
              "       [1., 0.],\n",
              "       [1., 1.],\n",
              "       [1., 0.],\n",
              "       [1., 0.],\n",
              "       [1., 0.],\n",
              "       [1., 1.],\n",
              "       [0., 1.],\n",
              "       [1., 0.],\n",
              "       [1., 0.],\n",
              "       [1., 1.],\n",
              "       [1., 0.],\n",
              "       [1., 1.],\n",
              "       [1., 0.],\n",
              "       [1., 0.],\n",
              "       [1., 0.],\n",
              "       [0., 1.],\n",
              "       [1., 0.],\n",
              "       [1., 1.],\n",
              "       [1., 0.],\n",
              "       [1., 1.],\n",
              "       [1., 0.],\n",
              "       [1., 1.],\n",
              "       [1., 0.],\n",
              "       [0., 1.],\n",
              "       [0., 1.],\n",
              "       [1., 0.],\n",
              "       [0., 1.],\n",
              "       [1., 0.],\n",
              "       [1., 1.],\n",
              "       [1., 1.],\n",
              "       [0., 1.],\n",
              "       [1., 0.],\n",
              "       [1., 1.],\n",
              "       [1., 0.],\n",
              "       [0., 1.],\n",
              "       [1., 0.],\n",
              "       [1., 0.],\n",
              "       [1., 0.],\n",
              "       [1., 1.],\n",
              "       [1., 1.],\n",
              "       [0., 1.],\n",
              "       [1., 0.],\n",
              "       [1., 0.],\n",
              "       [0., 1.],\n",
              "       [1., 0.],\n",
              "       [1., 1.],\n",
              "       [0., 1.],\n",
              "       [1., 1.],\n",
              "       [1., 0.],\n",
              "       [1., 0.],\n",
              "       [1., 0.],\n",
              "       [1., 0.],\n",
              "       [1., 1.],\n",
              "       [1., 1.],\n",
              "       [1., 0.],\n",
              "       [0., 1.],\n",
              "       [1., 0.],\n",
              "       [1., 1.],\n",
              "       [1., 1.],\n",
              "       [1., 0.],\n",
              "       [1., 1.],\n",
              "       [1., 1.],\n",
              "       [1., 1.],\n",
              "       [1., 1.],\n",
              "       [0., 1.],\n",
              "       [0., 1.],\n",
              "       [1., 0.],\n",
              "       [1., 0.],\n",
              "       [1., 0.],\n",
              "       [1., 0.],\n",
              "       [0., 1.],\n",
              "       [0., 1.],\n",
              "       [1., 0.],\n",
              "       [1., 0.],\n",
              "       [0., 1.],\n",
              "       [1., 1.],\n",
              "       [0., 1.],\n",
              "       [1., 1.],\n",
              "       [1., 1.],\n",
              "       [1., 0.],\n",
              "       [1., 1.],\n",
              "       [0., 1.],\n",
              "       [1., 1.],\n",
              "       [1., 1.],\n",
              "       [1., 0.],\n",
              "       [1., 1.],\n",
              "       [1., 0.],\n",
              "       [1., 1.],\n",
              "       [1., 0.],\n",
              "       [1., 1.],\n",
              "       [1., 0.],\n",
              "       [1., 1.],\n",
              "       [1., 0.],\n",
              "       [1., 0.],\n",
              "       [1., 0.],\n",
              "       [1., 1.],\n",
              "       [1., 1.],\n",
              "       [1., 0.],\n",
              "       [1., 0.],\n",
              "       [1., 0.],\n",
              "       [1., 1.],\n",
              "       [0., 1.],\n",
              "       [1., 0.],\n",
              "       [1., 0.],\n",
              "       [0., 1.],\n",
              "       [1., 0.],\n",
              "       [1., 1.],\n",
              "       [0., 1.],\n",
              "       [0., 1.],\n",
              "       [1., 1.],\n",
              "       [1., 0.],\n",
              "       [1., 0.],\n",
              "       [1., 0.],\n",
              "       [1., 1.],\n",
              "       [1., 0.],\n",
              "       [1., 0.],\n",
              "       [0., 1.],\n",
              "       [1., 0.],\n",
              "       [1., 1.],\n",
              "       [1., 0.],\n",
              "       [1., 1.],\n",
              "       [1., 0.],\n",
              "       [0., 1.],\n",
              "       [1., 0.],\n",
              "       [1., 0.],\n",
              "       [1., 1.],\n",
              "       [1., 0.],\n",
              "       [0., 1.],\n",
              "       [1., 0.],\n",
              "       [1., 0.],\n",
              "       [1., 1.],\n",
              "       [0., 1.],\n",
              "       [1., 0.],\n",
              "       [1., 0.],\n",
              "       [1., 0.],\n",
              "       [1., 1.],\n",
              "       [0., 1.],\n",
              "       [1., 0.],\n",
              "       [1., 0.],\n",
              "       [0., 1.],\n",
              "       [1., 1.],\n",
              "       [0., 1.],\n",
              "       [0., 1.],\n",
              "       [1., 0.],\n",
              "       [0., 1.],\n",
              "       [1., 0.],\n",
              "       [1., 0.],\n",
              "       [1., 1.],\n",
              "       [1., 1.],\n",
              "       [1., 0.],\n",
              "       [1., 1.],\n",
              "       [0., 1.],\n",
              "       [1., 1.],\n",
              "       [0., 1.],\n",
              "       [1., 1.],\n",
              "       [1., 1.],\n",
              "       [1., 1.],\n",
              "       [0., 1.],\n",
              "       [1., 0.],\n",
              "       [1., 0.],\n",
              "       [1., 1.],\n",
              "       [1., 0.],\n",
              "       [1., 0.],\n",
              "       [1., 0.],\n",
              "       [1., 1.],\n",
              "       [1., 0.],\n",
              "       [1., 1.],\n",
              "       [1., 1.],\n",
              "       [0., 1.],\n",
              "       [1., 1.],\n",
              "       [0., 1.],\n",
              "       [1., 0.],\n",
              "       [1., 1.],\n",
              "       [1., 0.],\n",
              "       [0., 1.],\n",
              "       [1., 0.],\n",
              "       [1., 0.],\n",
              "       [1., 1.],\n",
              "       [1., 0.],\n",
              "       [1., 0.],\n",
              "       [1., 0.],\n",
              "       [1., 0.],\n",
              "       [1., 0.],\n",
              "       [1., 0.],\n",
              "       [1., 0.],\n",
              "       [0., 1.],\n",
              "       [0., 1.],\n",
              "       [1., 0.],\n",
              "       [1., 0.],\n",
              "       [0., 1.],\n",
              "       [1., 0.],\n",
              "       [1., 0.]])"
            ]
          },
          "metadata": {},
          "execution_count": 43
        }
      ]
    },
    {
      "cell_type": "code",
      "source": [
        "ct = 0.5\n",
        "pp1 = pred_proba[:,1].reshape(-1,1)\n",
        "bn = Binarizer(threshold=ct)\n",
        "cp = bn.fit_transform(pp1)\n",
        "d = model_evaluate(y_test,cp)"
      ],
      "metadata": {
        "colab": {
          "base_uri": "https://localhost:8080/"
        },
        "id": "kG2uFI-g6xcp",
        "outputId": "c3ddc2f4-9b3f-4ab1-b4d3-7e3378428333"
      },
      "execution_count": 44,
      "outputs": [
        {
          "output_type": "stream",
          "name": "stdout",
          "text": [
            "accuracy:0.812 \n",
            "precision:0.807 \n",
            "recall:0.720 \n"
          ]
        }
      ]
    },
    {
      "cell_type": "code",
      "source": [
        "ct = 0.4\n",
        "pp1 = pred_proba[:,1].reshape(-1,1)\n",
        "bn = Binarizer(threshold=ct)\n",
        "cp = bn.fit_transform(pp1)\n",
        "d = model_evaluate(y_test,cp)"
      ],
      "metadata": {
        "colab": {
          "base_uri": "https://localhost:8080/"
        },
        "id": "0JJwtP5s8Mgr",
        "outputId": "eeba0306-3f85-4a5e-a0cc-73e32bee1b84"
      },
      "execution_count": 45,
      "outputs": [
        {
          "output_type": "stream",
          "name": "stdout",
          "text": [
            "accuracy:0.776 \n",
            "precision:0.717 \n",
            "recall:0.763 \n"
          ]
        }
      ]
    },
    {
      "cell_type": "code",
      "source": [
        "def get_eval_by_thresholds(y_test,pred,thresholds):\n",
        "  for threshold in thresholds:\n",
        "    print(\"=== threshold:\",threshold)\n",
        "    bn = Binarizer(threshold=threshold)\n",
        "    pv = bn.fit_transform(pred)\n",
        "    model_evaluate(y_test,pv)"
      ],
      "metadata": {
        "id": "3aXatwmx8NOT"
      },
      "execution_count": 46,
      "outputs": []
    },
    {
      "cell_type": "code",
      "source": [
        "tvs = [0.4, 0.45, 0.5 ,0.55, 0.60]\n",
        "get_eval_by_thresholds(y_test,pp1,tvs)"
      ],
      "metadata": {
        "colab": {
          "base_uri": "https://localhost:8080/"
        },
        "id": "w8d_FYJm-NmZ",
        "outputId": "ccd90169-fea2-4733-d713-ce3f81a5fdee"
      },
      "execution_count": 47,
      "outputs": [
        {
          "output_type": "stream",
          "name": "stdout",
          "text": [
            "=== threshold: 0.4\n",
            "accuracy:0.776 \n",
            "precision:0.717 \n",
            "recall:0.763 \n",
            "=== threshold: 0.45\n",
            "accuracy:0.812 \n",
            "precision:0.800 \n",
            "recall:0.731 \n",
            "=== threshold: 0.5\n",
            "accuracy:0.812 \n",
            "precision:0.807 \n",
            "recall:0.720 \n",
            "=== threshold: 0.55\n",
            "accuracy:0.812 \n",
            "precision:0.815 \n",
            "recall:0.710 \n",
            "=== threshold: 0.6\n",
            "accuracy:0.812 \n",
            "precision:0.870 \n",
            "recall:0.645 \n"
          ]
        }
      ]
    },
    {
      "cell_type": "code",
      "source": [
        "path = '/content/drive/MyDrive/titanic_train.csv'\n",
        "df = pd.read_csv(path)\n",
        "label = df['Survived']\n",
        "data = df[['Pclass','Sex','SibSp','Parch','Fare']]\n",
        "data['Sex'] = pd.get_dummies(data['Sex'])['female']\n",
        "x_train, x_test, y_train, y_test = train_test_split(data,label)"
      ],
      "metadata": {
        "id": "ePbSd1Kh-woI",
        "colab": {
          "base_uri": "https://localhost:8080/"
        },
        "outputId": "c51130a1-1f74-45dc-e033-bbdfabd31d8b"
      },
      "execution_count": 49,
      "outputs": [
        {
          "output_type": "stream",
          "name": "stderr",
          "text": [
            "<ipython-input-49-7c458225c39a>:5: SettingWithCopyWarning: \n",
            "A value is trying to be set on a copy of a slice from a DataFrame.\n",
            "Try using .loc[row_indexer,col_indexer] = value instead\n",
            "\n",
            "See the caveats in the documentation: https://pandas.pydata.org/pandas-docs/stable/user_guide/indexing.html#returning-a-view-versus-a-copy\n",
            "  data['Sex'] = pd.get_dummies(data['Sex'])['female']\n"
          ]
        }
      ]
    },
    {
      "cell_type": "code",
      "source": [
        "from sklearn.metrics import precision_recall_curve"
      ],
      "metadata": {
        "id": "t3BOXF3KgeMS"
      },
      "execution_count": 50,
      "outputs": []
    },
    {
      "cell_type": "code",
      "source": [
        "model = LogisticRegression()\n",
        "model.fit(x_train,y_train)\n",
        "pp1 = model.predict_proba(x_test)\n",
        "ppc1 = pp1[:,1]\n",
        "ppc1"
      ],
      "metadata": {
        "colab": {
          "base_uri": "https://localhost:8080/"
        },
        "id": "868CY9rtmZws",
        "outputId": "2b83c2e7-afb1-4ec3-96d8-9f1a5e0443d5"
      },
      "execution_count": 52,
      "outputs": [
        {
          "output_type": "execute_result",
          "data": {
            "text/plain": [
              "array([0.48340821, 0.79924204, 0.62317233, 0.79941398, 0.10500091,\n",
              "       0.92068957, 0.11767991, 0.46013777, 0.46264555, 0.11839731,\n",
              "       0.11742575, 0.242189  , 0.11783901, 0.505401  , 0.42532916,\n",
              "       0.11793455, 0.11812984, 0.1176733 , 0.22149444, 0.12000508,\n",
              "       0.78703825, 0.24359704, 0.45534466, 0.78037353, 0.57760867,\n",
              "       0.22360375, 0.11793455, 0.11785359, 0.77188866, 0.42450591,\n",
              "       0.45462822, 0.42708308, 0.2793343 , 0.11823756, 0.09838267,\n",
              "       0.11784697, 0.62270473, 0.90156721, 0.21330617, 0.10507288,\n",
              "       0.45010879, 0.93528685, 0.24275155, 0.46013777, 0.60619074,\n",
              "       0.11769979, 0.21993224, 0.11744029, 0.10619169, 0.09583061,\n",
              "       0.24475576, 0.7981834 , 0.24359704, 0.92989299, 0.48340821,\n",
              "       0.0736988 , 0.11789474, 0.11789474, 0.11767991, 0.58996183,\n",
              "       0.11758455, 0.62307941, 0.44333394, 0.45891685, 0.44421906,\n",
              "       0.44291827, 0.4553698 , 0.60134284, 0.2441618 , 0.42825125,\n",
              "       0.62307941, 0.11793455, 0.44594312, 0.11761633, 0.77932189,\n",
              "       0.52742756, 0.44821021, 0.25100792, 0.11788544, 0.09927371,\n",
              "       0.90772357, 0.242189  , 0.48151871, 0.24359704, 0.62647189,\n",
              "       0.11787219, 0.60204623, 0.92139549, 0.11539389, 0.11839731,\n",
              "       0.11767991, 0.45315757, 0.1176733 , 0.2230725 , 0.92068957,\n",
              "       0.9114185 , 0.11839731, 0.46747723, 0.62375047, 0.78015736,\n",
              "       0.11783637, 0.09323196, 0.4497298 , 0.11783369, 0.2230725 ,\n",
              "       0.11784697, 0.24359704, 0.49612049, 0.11788544, 0.24318813,\n",
              "       0.11780717, 0.62307941, 0.11812984, 0.91926147, 0.9221311 ,\n",
              "       0.23633591, 0.11783901, 0.23633591, 0.768437  , 0.24359704,\n",
              "       0.11830942, 0.44333394, 0.09732711, 0.4532187 , 0.11788544,\n",
              "       0.9221311 , 0.12000508, 0.54255856, 0.11777535, 0.11803415,\n",
              "       0.62335809, 0.44594312, 0.10491459, 0.11759249, 0.11793455,\n",
              "       0.10249612, 0.94245784, 0.77026681, 0.06967504, 0.93985518,\n",
              "       0.11793455, 0.44722253, 0.11839731, 0.62293554, 0.42532916,\n",
              "       0.9320567 , 0.62317233, 0.62309739, 0.79941398, 0.7790518 ,\n",
              "       0.34051755, 0.06967504, 0.04005266, 0.24359704, 0.59111244,\n",
              "       0.91537426, 0.05829178, 0.44632151, 0.11338617, 0.23633591,\n",
              "       0.11784697, 0.4611231 , 0.44480832, 0.11784697, 0.11812984,\n",
              "       0.62293554, 0.50876292, 0.11761766, 0.4314296 , 0.45361719,\n",
              "       0.62317233, 0.11784697, 0.56904948, 0.505401  , 0.22398723,\n",
              "       0.06760709, 0.62320527, 0.62458273, 0.11793455, 0.62270171,\n",
              "       0.12019928, 0.46747723, 0.2230725 , 0.94802296, 0.11793455,\n",
              "       0.79647788, 0.242189  , 0.11788544, 0.2793343 , 0.11780717,\n",
              "       0.11789474, 0.24359704, 0.59214527, 0.4306931 , 0.22042977,\n",
              "       0.92420346, 0.05829178, 0.11777535, 0.0736988 , 0.90454644,\n",
              "       0.79941398, 0.11787219, 0.04005266, 0.91092893, 0.55545846,\n",
              "       0.24387931, 0.44333394, 0.59233017, 0.91103062, 0.44594312,\n",
              "       0.42454624, 0.76863689, 0.11784697, 0.59114634, 0.242189  ,\n",
              "       0.11767991, 0.62789219, 0.11217315, 0.11785359, 0.11793455,\n",
              "       0.11783901, 0.11788544, 0.77393375])"
            ]
          },
          "metadata": {},
          "execution_count": 52
        }
      ]
    },
    {
      "cell_type": "code",
      "source": [
        "prec, rec, thres = precision_recall_curve(y_test,ppc1)"
      ],
      "metadata": {
        "id": "gCiMHu3_mZ0C"
      },
      "execution_count": 53,
      "outputs": []
    },
    {
      "cell_type": "code",
      "source": [
        "s = pd.Series(thres)\n",
        "s.describe()"
      ],
      "metadata": {
        "colab": {
          "base_uri": "https://localhost:8080/"
        },
        "id": "gEigGjCQmZ3K",
        "outputId": "480f92de-f657-4d08-b897-173e30778794"
      },
      "execution_count": 54,
      "outputs": [
        {
          "output_type": "execute_result",
          "data": {
            "text/plain": [
              "count    153.000000\n",
              "mean       0.436227\n",
              "std        0.283545\n",
              "min        0.040053\n",
              "25%        0.118034\n",
              "50%        0.447223\n",
              "75%        0.623172\n",
              "max        0.948023\n",
              "dtype: float64"
            ]
          },
          "metadata": {},
          "execution_count": 54
        }
      ]
    },
    {
      "cell_type": "code",
      "source": [
        "ti = np.arange(0,thres.shape[0],15)\n",
        "ti"
      ],
      "metadata": {
        "colab": {
          "base_uri": "https://localhost:8080/"
        },
        "id": "jmRlF_O8mZ6C",
        "outputId": "10954508-84e4-49b7-ab9d-c547c769e6e9"
      },
      "execution_count": 57,
      "outputs": [
        {
          "output_type": "execute_result",
          "data": {
            "text/plain": [
              "array([  0,  15,  30,  45,  60,  75,  90, 105, 120, 135, 150])"
            ]
          },
          "metadata": {},
          "execution_count": 57
        }
      ]
    },
    {
      "cell_type": "code",
      "source": [
        "print(np.round(thres[ti],2))"
      ],
      "metadata": {
        "colab": {
          "base_uri": "https://localhost:8080/"
        },
        "id": "_TFyd89-mZ86",
        "outputId": "3b523629-857c-4bef-ed34-bf050e53c268"
      },
      "execution_count": 58,
      "outputs": [
        {
          "output_type": "stream",
          "name": "stdout",
          "text": [
            "[0.04 0.11 0.12 0.21 0.25 0.45 0.47 0.59 0.63 0.9  0.94]\n"
          ]
        }
      ]
    },
    {
      "cell_type": "code",
      "source": [
        "for i in ti:\n",
        "  print(f\"th:{thres[i]:.2f} {prec[i]:.2f} {rec[i]:.2f} \")\n",
        "print(\"threshold:\",np.round(thres[ti],2))\n",
        "print(\"precison:\",np.round(prec[ti],2))\n",
        "print(\"recall:\",np.round(rec[ti],2))"
      ],
      "metadata": {
        "colab": {
          "base_uri": "https://localhost:8080/"
        },
        "id": "n5WMUXfhmZ_y",
        "outputId": "06112509-3cff-4542-a7ba-9b58221f5da9"
      },
      "execution_count": 62,
      "outputs": [
        {
          "output_type": "stream",
          "name": "stdout",
          "text": [
            "th:0.04 0.35 1.00 \n",
            "th:0.11 0.37 0.97 \n",
            "th:0.12 0.39 0.94 \n",
            "th:0.21 0.47 0.86 \n",
            "th:0.25 0.57 0.83 \n",
            "th:0.45 0.62 0.73 \n",
            "th:0.47 0.71 0.69 \n",
            "th:0.59 0.86 0.64 \n",
            "th:0.63 0.92 0.44 \n",
            "th:0.90 1.00 0.26 \n",
            "th:0.94 1.00 0.04 \n",
            "threshold: [0.04 0.11 0.12 0.21 0.25 0.45 0.47 0.59 0.63 0.9  0.94]\n",
            "precison: [0.35 0.37 0.39 0.47 0.57 0.62 0.71 0.86 0.92 1.   1.  ]\n",
            "recall: [1.   0.97 0.94 0.86 0.83 0.73 0.69 0.64 0.44 0.26 0.04]\n"
          ]
        }
      ]
    },
    {
      "cell_type": "code",
      "source": [
        "import matplotlib.pyplot as plt\n",
        "import matplotlib.ticker as ticker"
      ],
      "metadata": {
        "id": "Js1fY2W0wFno"
      },
      "execution_count": 65,
      "outputs": []
    },
    {
      "cell_type": "code",
      "source": [
        "plt.plot(thres,prec[:last],'r-',label='precision')\n",
        "plt.plot(thres,rec[:last],'b-',label='recall')\n",
        "plt.grid()\n",
        "plt.legend()\n",
        "plt.show()"
      ],
      "metadata": {
        "colab": {
          "base_uri": "https://localhost:8080/",
          "height": 244
        },
        "id": "UJgzCYGAmaCa",
        "outputId": "a0d8da8e-9a6a-4807-a0ca-e77515a74500"
      },
      "execution_count": 66,
      "outputs": [
        {
          "output_type": "error",
          "ename": "NameError",
          "evalue": "ignored",
          "traceback": [
            "\u001b[0;31m---------------------------------------------------------------------------\u001b[0m",
            "\u001b[0;31mNameError\u001b[0m                                 Traceback (most recent call last)",
            "\u001b[0;32m<ipython-input-66-62d793583778>\u001b[0m in \u001b[0;36m<cell line: 1>\u001b[0;34m()\u001b[0m\n\u001b[0;32m----> 1\u001b[0;31m \u001b[0mplt\u001b[0m\u001b[0;34m.\u001b[0m\u001b[0mplot\u001b[0m\u001b[0;34m(\u001b[0m\u001b[0mthres\u001b[0m\u001b[0;34m,\u001b[0m\u001b[0mprec\u001b[0m\u001b[0;34m[\u001b[0m\u001b[0;34m:\u001b[0m\u001b[0mlast\u001b[0m\u001b[0;34m]\u001b[0m\u001b[0;34m,\u001b[0m\u001b[0;34m'r-'\u001b[0m\u001b[0;34m,\u001b[0m\u001b[0mlabel\u001b[0m\u001b[0;34m=\u001b[0m\u001b[0;34m'precision'\u001b[0m\u001b[0;34m)\u001b[0m\u001b[0;34m\u001b[0m\u001b[0;34m\u001b[0m\u001b[0m\n\u001b[0m\u001b[1;32m      2\u001b[0m \u001b[0mplt\u001b[0m\u001b[0;34m.\u001b[0m\u001b[0mplot\u001b[0m\u001b[0;34m(\u001b[0m\u001b[0mthres\u001b[0m\u001b[0;34m,\u001b[0m\u001b[0mrec\u001b[0m\u001b[0;34m[\u001b[0m\u001b[0;34m:\u001b[0m\u001b[0mlast\u001b[0m\u001b[0;34m]\u001b[0m\u001b[0;34m,\u001b[0m\u001b[0;34m'b-'\u001b[0m\u001b[0;34m,\u001b[0m\u001b[0mlabel\u001b[0m\u001b[0;34m=\u001b[0m\u001b[0;34m'recall'\u001b[0m\u001b[0;34m)\u001b[0m\u001b[0;34m\u001b[0m\u001b[0;34m\u001b[0m\u001b[0m\n\u001b[1;32m      3\u001b[0m \u001b[0mplt\u001b[0m\u001b[0;34m.\u001b[0m\u001b[0mgrid\u001b[0m\u001b[0;34m(\u001b[0m\u001b[0;34m)\u001b[0m\u001b[0;34m\u001b[0m\u001b[0;34m\u001b[0m\u001b[0m\n\u001b[1;32m      4\u001b[0m \u001b[0mplt\u001b[0m\u001b[0;34m.\u001b[0m\u001b[0mlegend\u001b[0m\u001b[0;34m(\u001b[0m\u001b[0;34m)\u001b[0m\u001b[0;34m\u001b[0m\u001b[0;34m\u001b[0m\u001b[0m\n\u001b[1;32m      5\u001b[0m \u001b[0mplt\u001b[0m\u001b[0;34m.\u001b[0m\u001b[0mshow\u001b[0m\u001b[0;34m(\u001b[0m\u001b[0;34m)\u001b[0m\u001b[0;34m\u001b[0m\u001b[0;34m\u001b[0m\u001b[0m\n",
            "\u001b[0;31mNameError\u001b[0m: name 'last' is not defined"
          ]
        }
      ]
    },
    {
      "cell_type": "code",
      "source": [
        "from sklearn.metrics import f1_score"
      ],
      "metadata": {
        "id": "6C-Ta1jwu3_r"
      },
      "execution_count": 67,
      "outputs": []
    },
    {
      "cell_type": "code",
      "source": [
        "model = LogisticRegression()\n",
        "model.fit(x_train,y_train)\n",
        "pred = model.predict(x_test)\n",
        "f1 = f1_score(y_test,pred)\n",
        "print(\"f1:\",f1)"
      ],
      "metadata": {
        "colab": {
          "base_uri": "https://localhost:8080/"
        },
        "id": "vccOgkyKu4CD",
        "outputId": "7f2890bc-ceea-44d7-cfcb-6a12d6d8e4a6"
      },
      "execution_count": 68,
      "outputs": [
        {
          "output_type": "stream",
          "name": "stdout",
          "text": [
            "f1: 0.7123287671232876\n"
          ]
        }
      ]
    },
    {
      "cell_type": "code",
      "source": [
        "def get_model_eval(actual,pred):\n",
        "  con = confusion_matrix(actual,pred)\n",
        "  acc = accuracy_score(actual,pred)\n",
        "  pre = precision_score(actual,pred)\n",
        "  rec = recall_score(actual,pred)\n",
        "  f1 = f1_score(actual,pred)\n",
        "  print(\"오차행렬\\n\",con)\n",
        "  print(f\"정확도:{acc:6.4f} 정밀도{pre:6.4f}\")\n",
        "  print(f\"재현율:{rec:6.4f} F1 점수{f1:6.4f}\")"
      ],
      "metadata": {
        "id": "UGfPandJvg6J"
      },
      "execution_count": 69,
      "outputs": []
    },
    {
      "cell_type": "code",
      "source": [
        "def get_eval_by_thresholds(y_test,pred,thresholds):\n",
        "  for threshold in thresholds:\n",
        "    print(\"=== threshold:\",threshold)\n",
        "    bn = Binarizer(threshold=threshold)\n",
        "    pv = bn.fit_transform(pred)\n",
        "    get_model_eval(y_test,pv)"
      ],
      "metadata": {
        "id": "4HMT5aQlvg-c"
      },
      "execution_count": 70,
      "outputs": []
    },
    {
      "cell_type": "code",
      "source": [
        "thresholds = np.arange(0,1.01,0.05)\n",
        "model = LogisticRegression()\n",
        "model.fit(x_train,y_train)\n",
        "pp1 = model.predict_proba(x_test)[:,-1].reshape(-1,1)\n",
        "get_eval_by_thresholds(y_test,pp1,thresholds)"
      ],
      "metadata": {
        "colab": {
          "base_uri": "https://localhost:8080/"
        },
        "id": "eiYwlDwHvhBL",
        "outputId": "c2007624-712b-4501-e37d-f054079b3b73"
      },
      "execution_count": 73,
      "outputs": [
        {
          "output_type": "stream",
          "name": "stdout",
          "text": [
            "=== threshold: 0.0\n",
            "오차행렬\n",
            " [[  0 146]\n",
            " [  0  77]]\n",
            "정확도:0.3453 정밀도0.3453\n",
            "재현율:1.0000 F1 점수0.5133\n",
            "=== threshold: 0.05\n",
            "오차행렬\n",
            " [[  2 144]\n",
            " [  0  77]]\n",
            "정확도:0.3543 정밀도0.3484\n",
            "재현율:1.0000 F1 점수0.5168\n",
            "=== threshold: 0.1\n",
            "오차행렬\n",
            " [[ 12 134]\n",
            " [  2  75]]\n",
            "정확도:0.3901 정밀도0.3589\n",
            "재현율:0.9740 F1 점수0.5245\n",
            "=== threshold: 0.15000000000000002\n",
            "오차행렬\n",
            " [[72 74]\n",
            " [11 66]]\n",
            "정확도:0.6188 정밀도0.4714\n",
            "재현율:0.8571 F1 점수0.6083\n",
            "=== threshold: 0.2\n",
            "오차행렬\n",
            " [[72 74]\n",
            " [11 66]]\n",
            "정확도:0.6188 정밀도0.4714\n",
            "재현율:0.8571 F1 점수0.6083\n",
            "=== threshold: 0.25\n",
            "오차행렬\n",
            " [[98 48]\n",
            " [13 64]]\n",
            "정확도:0.7265 정밀도0.5714\n",
            "재현율:0.8312 F1 점수0.6772\n",
            "=== threshold: 0.30000000000000004\n",
            "오차행렬\n",
            " [[101  45]\n",
            " [ 13  64]]\n",
            "정확도:0.7399 정밀도0.5872\n",
            "재현율:0.8312 F1 점수0.6882\n",
            "=== threshold: 0.35000000000000003\n",
            "오차행렬\n",
            " [[102  44]\n",
            " [ 13  64]]\n",
            "정확도:0.7444 정밀도0.5926\n",
            "재현율:0.8312 F1 점수0.6919\n",
            "=== threshold: 0.4\n",
            "오차행렬\n",
            " [[102  44]\n",
            " [ 13  64]]\n",
            "정확도:0.7444 정밀도0.5926\n",
            "재현율:0.8312 F1 점수0.6919\n",
            "=== threshold: 0.45\n",
            "오차행렬\n",
            " [[114  32]\n",
            " [ 22  55]]\n",
            "정확도:0.7578 정밀도0.6322\n",
            "재현율:0.7143 F1 점수0.6707\n",
            "=== threshold: 0.5\n",
            "오차행렬\n",
            " [[129  17]\n",
            " [ 25  52]]\n",
            "정확도:0.8117 정밀도0.7536\n",
            "재현율:0.6753 F1 점수0.7123\n",
            "=== threshold: 0.55\n",
            "오차행렬\n",
            " [[133  13]\n",
            " [ 26  51]]\n",
            "정확도:0.8251 정밀도0.7969\n",
            "재현율:0.6623 F1 점수0.7234\n",
            "=== threshold: 0.6000000000000001\n",
            "오차행렬\n",
            " [[139   7]\n",
            " [ 28  49]]\n",
            "정확도:0.8430 정밀도0.8750\n",
            "재현율:0.6364 F1 점수0.7368\n",
            "=== threshold: 0.65\n",
            "오차행렬\n",
            " [[144   2]\n",
            " [ 43  34]]\n",
            "정확도:0.7982 정밀도0.9444\n",
            "재현율:0.4416 F1 점수0.6018\n",
            "=== threshold: 0.7000000000000001\n",
            "오차행렬\n",
            " [[144   2]\n",
            " [ 43  34]]\n",
            "정확도:0.7982 정밀도0.9444\n",
            "재현율:0.4416 F1 점수0.6018\n",
            "=== threshold: 0.75\n",
            "오차행렬\n",
            " [[144   2]\n",
            " [ 43  34]]\n",
            "정확도:0.7982 정밀도0.9444\n",
            "재현율:0.4416 F1 점수0.6018\n",
            "=== threshold: 0.8\n",
            "오차행렬\n",
            " [[146   0]\n",
            " [ 57  20]]\n",
            "정확도:0.7444 정밀도1.0000\n",
            "재현율:0.2597 F1 점수0.4124\n",
            "=== threshold: 0.8500000000000001\n",
            "오차행렬\n",
            " [[146   0]\n",
            " [ 57  20]]\n",
            "정확도:0.7444 정밀도1.0000\n",
            "재현율:0.2597 F1 점수0.4124\n",
            "=== threshold: 0.9\n",
            "오차행렬\n",
            " [[146   0]\n",
            " [ 57  20]]\n",
            "정확도:0.7444 정밀도1.0000\n",
            "재현율:0.2597 F1 점수0.4124\n",
            "=== threshold: 0.9500000000000001\n",
            "오차행렬\n",
            " [[146   0]\n",
            " [ 77   0]]\n",
            "정확도:0.6547 정밀도0.0000\n",
            "재현율:0.0000 F1 점수0.0000\n",
            "=== threshold: 1.0\n",
            "오차행렬\n",
            " [[146   0]\n",
            " [ 77   0]]\n",
            "정확도:0.6547 정밀도0.0000\n",
            "재현율:0.0000 F1 점수0.0000\n"
          ]
        },
        {
          "output_type": "stream",
          "name": "stderr",
          "text": [
            "/usr/local/lib/python3.10/dist-packages/sklearn/metrics/_classification.py:1344: UndefinedMetricWarning: Precision is ill-defined and being set to 0.0 due to no predicted samples. Use `zero_division` parameter to control this behavior.\n",
            "  _warn_prf(average, modifier, msg_start, len(result))\n",
            "/usr/local/lib/python3.10/dist-packages/sklearn/metrics/_classification.py:1344: UndefinedMetricWarning: Precision is ill-defined and being set to 0.0 due to no predicted samples. Use `zero_division` parameter to control this behavior.\n",
            "  _warn_prf(average, modifier, msg_start, len(result))\n"
          ]
        }
      ]
    },
    {
      "cell_type": "markdown",
      "source": [
        "# ROC CURVE"
      ],
      "metadata": {
        "id": "HzBJGNut10fs"
      }
    },
    {
      "cell_type": "code",
      "source": [
        "from sklearn.metrics import roc_curve"
      ],
      "metadata": {
        "id": "m-9BwjZ0vhHM"
      },
      "execution_count": 74,
      "outputs": []
    },
    {
      "cell_type": "code",
      "source": [
        "fprs, tprs, thresholds = roc_curve(y_test,pp1)"
      ],
      "metadata": {
        "id": "ONgp7u_GvhKk"
      },
      "execution_count": 75,
      "outputs": []
    },
    {
      "cell_type": "code",
      "source": [
        "ti =np.arange(1,thresholds.shape[0],5)\n",
        "ti"
      ],
      "metadata": {
        "colab": {
          "base_uri": "https://localhost:8080/"
        },
        "id": "tf_yJVGnu4E0",
        "outputId": "179d18d7-4900-44da-9b54-4abad84b6f7b"
      },
      "execution_count": 77,
      "outputs": [
        {
          "output_type": "execute_result",
          "data": {
            "text/plain": [
              "array([ 1,  6, 11, 16, 21, 26, 31, 36, 41, 46, 51, 56, 61, 66, 71, 76, 81])"
            ]
          },
          "metadata": {},
          "execution_count": 77
        }
      ]
    },
    {
      "cell_type": "code",
      "source": [
        "for i in ti:\n",
        "  print(f\"th:{thres[i]:.2f} {fprs[i]:.2f} {tprs[i]:.2f} \")\n",
        "print(\"threshold:\",np.round(thres[ti],2))\n",
        "print(\"fpr:\",np.round(fprs[ti],2))\n",
        "print(\"tpr:\",np.round(tprs[ti],2))"
      ],
      "metadata": {
        "colab": {
          "base_uri": "https://localhost:8080/"
        },
        "id": "jg26bVZ92PKU",
        "outputId": "eba70ba0-f7b0-409c-cc73-04f5a5256607"
      },
      "execution_count": 78,
      "outputs": [
        {
          "output_type": "stream",
          "name": "stdout",
          "text": [
            "th:0.06 0.00 0.01 \n",
            "th:0.10 0.00 0.26 \n",
            "th:0.10 0.02 0.44 \n",
            "th:0.11 0.03 0.55 \n",
            "th:0.12 0.05 0.65 \n",
            "th:0.12 0.10 0.68 \n",
            "th:0.12 0.15 0.69 \n",
            "th:0.12 0.24 0.71 \n",
            "th:0.12 0.28 0.78 \n",
            "th:0.22 0.35 0.83 \n",
            "th:0.22 0.47 0.84 \n",
            "th:0.24 0.56 0.87 \n",
            "th:0.28 0.67 0.92 \n",
            "th:0.43 0.77 0.94 \n",
            "th:0.44 0.86 0.94 \n",
            "th:0.45 0.92 0.99 \n",
            "th:0.45 1.00 1.00 \n",
            "threshold: [0.06 0.1  0.1  0.11 0.12 0.12 0.12 0.12 0.12 0.22 0.22 0.24 0.28 0.43\n",
            " 0.44 0.45 0.45]\n",
            "fpr: [0.   0.   0.02 0.03 0.05 0.1  0.15 0.24 0.28 0.35 0.47 0.56 0.67 0.77\n",
            " 0.86 0.92 1.  ]\n",
            "tpr: [0.01 0.26 0.44 0.55 0.65 0.68 0.69 0.71 0.78 0.83 0.84 0.87 0.92 0.94\n",
            " 0.94 0.99 1.  ]\n"
          ]
        }
      ]
    },
    {
      "cell_type": "code",
      "source": [
        "def roc_curve_plot(y_test,pred):\n",
        "  fprs, tprs, thresholds = roc_curve(y_test,pp1)\n",
        "  plt.plot(fprs,tprs,label=\"ROC\")\n",
        "  plt.plot([0,1],[0,1],'k--',label='Random')\n",
        "  plt.xlabel('FPR')\n",
        "  plt.ylabel('TPR')\n",
        "  plt.legend()\n",
        "  plt.show()"
      ],
      "metadata": {
        "id": "JN-iKe162PNt"
      },
      "execution_count": 80,
      "outputs": []
    },
    {
      "cell_type": "code",
      "source": [
        "roc_curve_plot(y_test,pred)"
      ],
      "metadata": {
        "colab": {
          "base_uri": "https://localhost:8080/",
          "height": 449
        },
        "id": "fHd-I_Nq4xn2",
        "outputId": "db5472b1-02c5-448e-a9fe-09c16c79fb6f"
      },
      "execution_count": 83,
      "outputs": [
        {
          "output_type": "display_data",
          "data": {
            "text/plain": [
              "<Figure size 640x480 with 1 Axes>"
            ],
            "image/png": "[encoded data removed]"
          },
          "metadata": {}
        }
      ]
    },
    {
      "cell_type": "code",
      "source": [
        "from sklearn.metrics import roc_auc_score"
      ],
      "metadata": {
        "id": "hT7JIG2z2PQ4"
      },
      "execution_count": 81,
      "outputs": []
    },
    {
      "cell_type": "code",
      "source": [
        "roc_auc_score(y_test,pp1)"
      ],
      "metadata": {
        "colab": {
          "base_uri": "https://localhost:8080/"
        },
        "id": "IsUpQMsf2PUb",
        "outputId": "6a49696e-0d19-4251-cfe1-db694dd6143f"
      },
      "execution_count": 82,
      "outputs": [
        {
          "output_type": "execute_result",
          "data": {
            "text/plain": [
              "0.8323696851094112"
            ]
          },
          "metadata": {},
          "execution_count": 82
        }
      ]
    },
    {
      "cell_type": "code",
      "source": [],
      "metadata": {
        "id": "Zb2Xfyk02PXM"
      },
      "execution_count": null,
      "outputs": []
    },
    {
      "cell_type": "code",
      "source": [],
      "metadata": {
        "id": "IDJcB1Fu2Pae"
      },
      "execution_count": null,
      "outputs": []
    },
    {
      "cell_type": "code",
      "source": [],
      "metadata": {
        "id": "19czsIGm2PdX"
      },
      "execution_count": null,
      "outputs": []
    }
  ]
}